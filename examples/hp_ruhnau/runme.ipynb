"""
This is a Python script that can be converted to a Jupyter notebook.
The content is similar to the runme.py file but formatted for a Jupyter notebook.
To convert this script to a Jupyter notebook, you can use the following command:
jupyter nbconvert --to notebook --execute runme.ipynb.py
"""

# %% [markdown]
# # Heat Pump COP Time Series Generation: Ruhnau Method
#
# This notebook demonstrates how to use the Ruhnau method to generate heat pump COP time series for different heat pump types, heating systems, and domestic hot water (DHW).
#
# The Ruhnau method is based on the paper by Ruhnau et al. (2019) "Time series of heat demand and heat pump efficiency for energy system modeling".

# %%
# Import necessary libraries
import os
import sys
import pandas as pd
import matplotlib.pyplot as plt

# Add the project root directory to the Python path
sys.path.insert(0, os.path.abspath(os.path.join(os.path.dirname(__file__), '../..')))

# Import the TimeSeriesGenerator
from entise.core.generator import TimeSeriesGenerator
from entise.constants import Types

# %% [markdown]
# ## Load Data
#
# First, we load the objects and weather data.

# %%
# Load data
cwd = '.'  # Current working directory: change if your kernel is not running in the same folder
objects = pd.read_csv(os.path.join(cwd, 'objects.csv'))
data = {}
data_folder = 'data'
for file in os.listdir(os.path.join(cwd, data_folder)):
    if file.endswith('.csv'):
        name = file.split('.')[0]
        data[name] = pd.read_csv(os.path.join(os.path.join(cwd, data_folder, file)), parse_dates=True)
    elif file.endswith('.json'):
        # For system.json, we don't need to load it here as it will be loaded by the method
        pass
print('Loaded data keys:', list(data.keys()))

# %% [markdown]
# ## Display Objects
#
# Let's take a look at the heat pump objects we've loaded.

# %%
# Display the objects
objects

# %% [markdown]
# ## Generate Time Series
#
# Now we'll use the TimeSeriesGenerator to generate heat pump COP time series for all objects.

# %%
# Instantiate and configure the generator
gen = TimeSeriesGenerator()

# Add objects
gen.add_objects(objects)

# Generate time series
summary, df = gen.generate(data, workers=1)

# %% [markdown]
# ## Display Summary
#
# Let's look at the summary statistics for the generated time series.

# %%
# Print summary
print("Summary:")
summary

# %% [markdown]
# ## Prepare Data for Visualization
#
# Before we create visualizations, we need to prepare the data.

# %%
# Convert index to datetime for all time series
for obj_id in df:
    if Types.HP in df[obj_id]:
        df[obj_id][Types.HP].index = pd.to_datetime(df[obj_id][Types.HP].index)

# Get heat pump parameters from objects dataframe
system_configs = {}
for _, row in objects.iterrows():
    obj_id = row['id']
    if obj_id in df:
        hp_source = row['hp_source'] if not pd.isna(row.get('hp_source', pd.NA)) else "Default"
        hp_sink = row['hp_sink'] if not pd.isna(row.get('hp_sink', pd.NA)) else "Default"
        temp_sink = row['temp_sink'] if not pd.isna(row.get('temp_sink', pd.NA)) else "Default"
        temp_water = row['temp_water'] if not pd.isna(row.get('temp_water', pd.NA)) else "Default"
        system_configs[obj_id] = {
            'hp_source': hp_source,
            'hp_sink': hp_sink,
            'temp_sink': temp_sink,
            'temp_water': temp_water
        }

# %% [markdown]
# ## Visualization 1: Average COP by System
#
# Let's compare the average COP values for different heat pump systems.

# %%
# Get the average COP for each system
avg_heating_cop = {}
avg_dhw_cop = {}
for obj_id in df:
    if Types.HP in df[obj_id]:
        # Extract heating COP
        heating_col = f"{Types.HP}_{Types.HEATING}"
        if heating_col in df[obj_id][Types.HP].columns:
            avg_heating_cop[obj_id] = df[obj_id][Types.HP][heating_col].mean()

        # Extract DHW COP
        dhw_col = f"{Types.HP}_{Types.DHW}"
        if dhw_col in df[obj_id][Types.HP].columns:
            avg_dhw_cop[obj_id] = df[obj_id][Types.HP][dhw_col].mean()

# Create a bar chart for average heating COP
plt.figure(figsize=(12, 6))
plt.subplot(1, 2, 1)
plt.bar(range(len(avg_heating_cop)), list(avg_heating_cop.values()))
plt.xticks(range(len(avg_heating_cop)), [f'ID {id}' for id in avg_heating_cop.keys()], rotation=45)
plt.title('Average Heating COP by System')
plt.ylabel('Average COP')
plt.grid(axis='y')

# Create a bar chart for average DHW COP
plt.subplot(1, 2, 2)
plt.bar(range(len(avg_dhw_cop)), list(avg_dhw_cop.values()))
plt.xticks(range(len(avg_dhw_cop)), [f'ID {id}' for id in avg_dhw_cop.keys()], rotation=45)
plt.title('Average DHW COP by System')
plt.ylabel('Average COP')
plt.grid(axis='y')

plt.tight_layout()
plt.show()

# %% [markdown]
# ## Visualization 2: Time Series for All Systems
#
# Let's visualize the COP time series for all heat pump systems.

# %%
# Calculate the number of rows and columns for the subplots
n_systems = len(df)
n_cols = min(4, n_systems)
n_rows = (n_systems + n_cols - 1) // n_cols  # Ceiling division

fig, axes = plt.subplots(n_rows, n_cols, figsize=(16, 4 * n_rows))
if n_rows == 1 and n_cols == 1:
    axes = [axes]  # Make axes iterable if there's only one subplot
elif n_rows == 1 or n_cols == 1:
    axes = axes.flatten()  # Flatten the 1D array of axes for easier indexing

# For each heat pump system, create a separate subplot
for i, obj_id in enumerate(df):
    if i >= len(axes):
        break  # Safety check

    if Types.HP not in df[obj_id]:
        continue

    # Get system parameters for the title
    config = system_configs.get(obj_id, {})
    hp_source = config.get('hp_source', 'Default')
    hp_sink = config.get('hp_sink', 'Default')
    temp_sink = config.get('temp_sink', 'Default')
    temp_water = config.get('temp_water', 'Default')

    # Plot the heating COP time series
    heating_col = f"{Types.HP}_{Types.HEATING}"
    if heating_col in df[obj_id][Types.HP].columns:
        df[obj_id][Types.HP][heating_col].plot(ax=axes[i], color='#1f77b4', linewidth=1, label='Heating COP')

    # Plot the DHW COP time series
    dhw_col = f"{Types.HP}_{Types.DHW}"
    if dhw_col in df[obj_id][Types.HP].columns:
        df[obj_id][Types.HP][dhw_col].plot(ax=axes[i], color='#ff7f0e', linewidth=1, label='DHW COP')

    axes[i].set_title(f'ID {obj_id}, Source: {hp_source}, Sink: {hp_sink}, Temp: {temp_sink}°C, DHW: {temp_water}°C')
    axes[i].set_xlabel('Time')
    axes[i].set_ylabel('COP')
    axes[i].legend()
    axes[i].grid(True)

# Hide empty subplots
for i in range(len(df), len(axes)):
    if i < len(axes):
        axes[i].axis('off')

plt.tight_layout()
plt.show()

# %% [markdown]
# ## Visualization 3: Monthly Average COP
#
# Let's analyze the monthly average COP values for each system.

# %%
# Create a figure with appropriate number of subfigures
fig, axes = plt.subplots(n_rows, n_cols, figsize=(16, 4 * n_rows))
if n_rows == 1 and n_cols == 1:
    axes = [axes]  # Make axes iterable if there's only one subplot
elif n_rows == 1 or n_cols == 1:
    axes = axes.flatten()  # Flatten the 1D array of axes for easier indexing

monthly_data = {}

# For each heat pump system, create a separate subplot
for i, obj_id in enumerate(df):
    if i >= len(axes):
        break  # Safety check

    if Types.HP not in df[obj_id]:
        continue

    # Get system parameters for the title
    config = system_configs.get(obj_id, {})
    hp_source = config.get('hp_source', 'Default')
    hp_sink = config.get('hp_sink', 'Default')

    # Resample to monthly averages
    monthly = {}

    # Process heating COP
    heating_col = f"{Types.HP}_{Types.HEATING}"
    if heating_col in df[obj_id][Types.HP].columns:
        monthly['heating'] = df[obj_id][Types.HP][heating_col].resample('M').mean()

    # Process DHW COP
    dhw_col = f"{Types.HP}_{Types.DHW}"
    if dhw_col in df[obj_id][Types.HP].columns:
        monthly['dhw'] = df[obj_id][Types.HP][dhw_col].resample('M').mean()

    monthly_data[obj_id] = monthly

    # Plot on the corresponding subplot
    if 'heating' in monthly:
        axes[i].plot(monthly['heating'].index, monthly['heating'].values, label='Heating COP', color='#1f77b4')
    if 'dhw' in monthly:
        axes[i].plot(monthly['dhw'].index, monthly['dhw'].values, label='DHW COP', color='#ff7f0e')

    axes[i].set_title(f'ID {obj_id}, Source: {hp_source}, Sink: {hp_sink}')
    axes[i].set_xlabel('Month')
    axes[i].set_ylabel('Average COP')
    axes[i].legend()
    axes[i].grid(True)
    axes[i].tick_params(axis='x', rotation=45)

# Hide empty subplots
for i in range(len(df), len(axes)):
    if i < len(axes):
        axes[i].axis('off')

plt.tight_layout()
plt.show()

# %% [markdown]
# ## Visualization 4: Seasonal Daily Profile
#
# Let's analyze the seasonal daily profile of COP values for each system.

# %%
# Define seasons
seasons = {
    'Winter': [12, 1, 2],
    'Spring': [3, 4, 5],
    'Summer': [6, 7, 8],
    'Fall': [9, 10, 11]
}

# Create a figure with appropriate number of subfigures
fig, axes = plt.subplots(n_rows, n_cols, figsize=(16, 4 * n_rows))
if n_rows == 1 and n_cols == 1:
    axes = [axes]  # Make axes iterable if there's only one subplot
elif n_rows == 1 or n_cols == 1:
    axes = axes.flatten()  # Flatten the 1D array of axes for easier indexing

# For each heat pump system, create a separate subplot
for i, obj_id in enumerate(df):
    if i >= len(axes):
        break  # Safety check

    if Types.HP not in df[obj_id]:
        continue

    # Get system parameters for the title
    config = system_configs.get(obj_id, {})
    hp_source = config.get('hp_source', 'Default')
    hp_sink = config.get('hp_sink', 'Default')

    # Process heating COP
    heating_col = f"{Types.HP}_{Types.HEATING}"
    if heating_col in df[obj_id][Types.HP].columns:
        ts_heating = df[obj_id][Types.HP][heating_col]

        # Plot each season on the same subplot
        for season_name, months in seasons.items():
            # Filter data for the season
            season_data = ts_heating[ts_heating.index.month.isin(months)]
            if not season_data.empty:
                # Create average daily profile
                daily_profile = season_data.groupby(season_data.index.hour).mean()
                axes[i].plot(daily_profile.index, daily_profile.values, label=f'{season_name} (Heating)', linewidth=2)

    # Process DHW COP
    dhw_col = f"{Types.HP}_{Types.DHW}"
    if dhw_col in df[obj_id][Types.HP].columns:
        ts_dhw = df[obj_id][Types.HP][dhw_col]

        # Plot each season on the same subplot (using dashed lines for DHW)
        for season_name, months in seasons.items():
            # Filter data for the season
            season_data = ts_dhw[ts_dhw.index.month.isin(months)]
            if not season_data.empty:
                # Create average daily profile
                daily_profile = season_data.groupby(season_data.index.hour).mean()
                axes[i].plot(daily_profile.index, daily_profile.values, label=f'{season_name} (DHW)',
                             linewidth=2, linestyle='--')

    axes[i].set_title(f'ID {obj_id}, Source: {hp_source}, Sink: {hp_sink}')
    axes[i].set_xlabel('Hour of Day')
    axes[i].set_ylabel('Average COP')
    axes[i].legend()
    axes[i].grid(True)
    axes[i].set_xticks(range(0, 24, 4))  # Show fewer ticks for readability

# Hide empty subplots
for i in range(len(df), len(axes)):
    if i < len(axes):
        axes[i].axis('off')

plt.tight_layout()
plt.show()

# %% [markdown]
# ## Visualization 5: COP vs. Temperature
#
# Let's analyze the relationship between COP and outdoor temperature for each system.

# %%
# Create a figure with appropriate number of subfigures
fig, axes = plt.subplots(n_rows, n_cols, figsize=(16, 4 * n_rows))
if n_rows == 1 and n_cols == 1:
    axes = [axes]  # Make axes iterable if there's only one subplot
elif n_rows == 1 or n_cols == 1:
    axes = axes.flatten()  # Flatten the 1D array of axes for easier indexing

# For each heat pump system, create a separate subplot
for i, obj_id in enumerate(df):
    if i >= len(axes):
        break  # Safety check

    if Types.HP not in df[obj_id]:
        continue

    # Get system parameters for the title
    config = system_configs.get(obj_id, {})
    hp_source = config.get('hp_source', 'Default')
    hp_sink = config.get('hp_sink', 'Default')

    # Get weather data
    weather_data = data.get('weather')
    if weather_data is None:
        continue

    # Ensure weather data has the same index as the COP data
    weather_data['datetime'] = pd.to_datetime(weather_data['datetime'])
    weather_data.set_index('datetime', inplace=True)

    # Get temperature column
    temp_col = 'temperature'
    if temp_col not in weather_data.columns and 'temperature_2m' in weather_data.columns:
        temp_col = 'temperature_2m'

    if temp_col not in weather_data.columns:
        continue

    # Process heating COP
    heating_col = f"{Types.HP}_{Types.HEATING}"
    if heating_col in df[obj_id][Types.HP].columns:
        # Merge COP and temperature data
        merged_data = pd.merge(
            df[obj_id][Types.HP][heating_col],
            weather_data[temp_col],
            left_index=True,
            right_index=True,
            how='inner'
        )

        # Plot scatter plot
        axes[i].scatter(merged_data[temp_col], merged_data[heating_col],
                       label='Heating COP', alpha=0.5, s=10)

    # Process DHW COP
    dhw_col = f"{Types.HP}_{Types.DHW}"
    if dhw_col in df[obj_id][Types.HP].columns:
        # Merge COP and temperature data
        merged_data = pd.merge(
            df[obj_id][Types.HP][dhw_col],
            weather_data[temp_col],
            left_index=True,
            right_index=True,
            how='inner'
        )

        # Plot scatter plot
        axes[i].scatter(merged_data[temp_col], merged_data[dhw_col],
                       label='DHW COP', alpha=0.5, s=10)

    axes[i].set_title(f'ID {obj_id}, Source: {hp_source}, Sink: {hp_sink}')
    axes[i].set_xlabel('Temperature (°C)')
    axes[i].set_ylabel('COP')
    axes[i].legend()
    axes[i].grid(True)

# Hide empty subplots
for i in range(len(df), len(axes)):
    if i < len(axes):
        axes[i].axis('off')

plt.tight_layout()
plt.show()

# %% [markdown]
# ## Conclusion
#
# In this notebook, we've demonstrated how to use the Ruhnau method to generate heat pump COP time series for different heat pump types, heating systems, and domestic hot water (DHW). We've also visualized the results in various ways to gain insights into the performance of different heat pump systems.
